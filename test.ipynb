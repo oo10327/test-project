{
  "nbformat": 4,
  "nbformat_minor": 0,
  "metadata": {
    "colab": {
      "name": "Untitled1.ipynb",
      "provenance": [],
      "authorship_tag": "ABX9TyN0QJ9zHHsSk5NLQyXS7ivU",
      "include_colab_link": true
    },
    "kernelspec": {
      "name": "python3",
      "display_name": "Python 3"
    },
    "language_info": {
      "name": "python"
    }
  },
  "cells": [
    {
      "cell_type": "markdown",
      "metadata": {
        "id": "view-in-github",
        "colab_type": "text"
      },
      "source": [
        "<a href=\"https://colab.research.google.com/github/oo10327/test-project/blob/main/test.ipynb\" target=\"_parent\"><img src=\"https://colab.research.google.com/assets/colab-badge.svg\" alt=\"Open In Colab\"/></a>"
      ]
    },
    {
      "cell_type": "code",
      "metadata": {
        "id": "pEqLAaOp_uS6"
      },
      "source": [
        "import requests\n",
        "from urllib.request import urlopen, Request\n",
        "from bs4 import BeautifulSoup\n",
        "import pandas as pd\n",
        "import numpy as np\n",
        "import nltk\n",
        "from nltk.sentiment.vader import SentimentIntensityAnalyzer \n",
        "import matplotlib.pyplot as plt\n",
        "import json\n",
        "from datetime import date, timedelta\n",
        "import datetime as dt\n",
        "import yfinance as yf\n",
        "\n"
      ],
      "execution_count": null,
      "outputs": []
    },
    {
      "cell_type": "code",
      "metadata": {
        "colab": {
          "base_uri": "https://localhost:8080/",
          "height": 345
        },
        "id": "fzK9Dy3nACNd",
        "outputId": "1ffd6cd9-6720-4663-a8c5-4d1327984be6"
      },
      "source": [
        "\n",
        "def getStockDataframe(symbols, in_days):\n",
        "    \n",
        "    df_stocktwits = pd.DataFrame(columns = ['symbol', 'text', 'sentiment', 'time'])\n",
        "    start_date = dt.datetime.now() - dt.timedelta(days=in_days)\n",
        "    start_date = start_date.date()  \n",
        "    for symbol in symbols:\n",
        "        ChangeSymbol = False\n",
        "        maxCursor = ''        \n",
        "        while ChangeSymbol == False:\n",
        "#             print('maxCursor = ' + maxCursor)\n",
        "\n",
        "            # 1. fetch stock data\n",
        "            r1 = requests.get('https://api.stocktwits.com/api/2/streams/symbol/' + symbol + '.json?filter=top&limit=20&max=' + maxCursor)\n",
        "            data = r1.json()\n",
        "            if r1.status_code != 200:\n",
        "                print('make more than 200 requests an hour')\n",
        "                print(data)\n",
        "                return df_stocktwits\n",
        "\n",
        "            # 2. update maxCursor\n",
        "            maxCursor = str(data['cursor']['max'])\n",
        "\n",
        "            # 3. parse data and put into dataframe\n",
        "            rows = []\n",
        "            for msg in data['messages']:\n",
        "                text = msg['body']\n",
        "                time_str = msg['created_at'][:10]\n",
        "                sentiments = msg['entities']['sentiment']\n",
        "                symbol = data['symbol']['symbol']\n",
        "                if sentiments != 'null':\n",
        "                    sentiment = str(sentiments)[11:-2]\n",
        "                else :\n",
        "                    sentiment = ''\n",
        "                date_time_obj = dt.datetime.strptime(time_str, '%Y-%m-%d')\n",
        "                date_time_obj = date_time_obj.date()\n",
        "\n",
        "                # check messages are enough \n",
        "                if date_time_obj <= start_date:\n",
        "    #                 print('hasAllMessage = ' + time_str)\n",
        "                    ChangeSymbol = True\n",
        "                    break\n",
        "\n",
        "                rows.append([symbol, text, sentiment, date_time_obj])\n",
        "\n",
        "            df_stocktwits = df_stocktwits.append(pd.DataFrame(rows, columns = ['symbol', 'text', 'sentiment', 'time']), ignore_index=True)\n",
        "            df_stocktwits = df_stocktwits.sort_values(by=['symbol'], ignore_index = True)\n",
        "                            \n",
        "    news_tables = {}\n",
        "    parse_data_news = []\n",
        "    for symbol in symbols:\n",
        "        url = 'https://finviz.com/quote.ashx?t=' + symbol + '&ty=c&ta=1&p=d'\n",
        "        r2 = requests.get(url, headers={'user-agent': 'my-app'})\n",
        "        soup1 = BeautifulSoup(r2.text, 'html')\n",
        "        all_news=soup1.find(id=\"news-table\")\n",
        "        news_tables[symbol] = all_news\n",
        "\n",
        "        for symbol, news_table in  news_tables.items():\n",
        "            for titles in news_table.findAll('tr'):\n",
        "                datetime = titles.td.text\n",
        "                title = titles.a.text\n",
        "                channel = titles.span.text\n",
        "                news_url = titles.a['href']\n",
        "                if len(datetime.split(\" \")) == 1:\n",
        "                    time = datetime[0:7]\n",
        "                else:\n",
        "                    date = datetime[0:9]\n",
        "                    time = datetime[11:17]\n",
        "\n",
        "                date = pd.to_datetime(date)\n",
        "                parse_data_news.append([symbol, date, time, title, channel, news_url])\n",
        "                df_finviz = pd.DataFrame(parse_data_news, columns =['symbol','date', 'time', 'title', 'channel', 'news_url'])\n",
        "        df_finviz = df_finviz.append(pd.DataFrame(df_finviz, columns =['symbol','date', 'time', 'title', 'channel', 'news_url']), ignore_index=True)\n",
        "        df_finviz = df_finviz.sort_values(by=['symbol'], ignore_index = True)\n",
        "\n",
        "        \n",
        "    rating_tables = {}\n",
        "    parse_data_rating = []       \n",
        "    for symbol in symbols:\n",
        "        url = 'https://finviz.com/quote.ashx?t=' + symbol + '&ty=c&ta=1&p=d'\n",
        "        r2 = requests.get(url, headers={'user-agent': 'my-app'})\n",
        "        soup2 = BeautifulSoup(r2.text, 'html')\n",
        "        all_rating=soup2.findAll(class_=\"fullview-ratings-inner\")\n",
        "        rating_tables[symbol] = all_rating\n",
        "\n",
        "        for symbol, ratings in rating_tables.items():\n",
        "            for rating in ratings:\n",
        "                date= rating.text.split('\\n')[1][:9]\n",
        "                date = dt.datetime.strptime(date, '%b-%d-%y')\n",
        "                date = date.date()\n",
        "                action= rating.text.split('\\n')[1][9:]\n",
        "                organization= rating.text.split('\\n')[2]\n",
        "                suggestion= rating.text.split('\\n')[3]\n",
        "                target_price= rating.text.split('\\n')[4]\n",
        "                \n",
        "                parse_data_rating.append([symbol, date, action, organization, suggestion, target_price])\n",
        "        df_rating = pd.DataFrame(parse_data_rating, columns = ['symbol', 'date', 'action', 'organization', 'suggestion', 'target_price'])\n",
        "        df_rating = df_rating.sort_values(by=['symbol'], ignore_index = True)\n",
        "    \n",
        "    \n",
        "    df_hist_data= pd.DataFrame([],columns = ['symbol', 'Date', 'Open', 'High', 'Low', 'Close', 'Volume', 'Dividends', 'Stock', 'Splits'])\n",
        "    for symbol in symbols:\n",
        "        all_info = yf.Ticker(symbol)\n",
        "        hist_data = all_info.history(period = 'max')\n",
        "        hist_data['symbol']= symbol\n",
        "        hist_data.reset_index(inplace=True)\n",
        "        hist_data = hist_data.rename(columns = {'index': 'Date'})\n",
        "        df_hist_data = df_hist_data.append(hist_data)\n",
        "        \n",
        "    return df_finviz, df_stocktwits, df_rating, df_hist_data\n",
        "\n",
        "\n",
        "df_finviz, df_stocktwits, df_rating, df_hist_data= getStockDataframe(['ZM', 'SQ'], 3)\n",
        "\n"
      ],
      "execution_count": null,
      "outputs": [
        {
          "output_type": "error",
          "ename": "JSONDecodeError",
          "evalue": "ignored",
          "traceback": [
            "\u001b[0;31m---------------------------------------------------------------------------\u001b[0m",
            "\u001b[0;31mJSONDecodeError\u001b[0m                           Traceback (most recent call last)",
            "\u001b[0;32m<ipython-input-6-9682984b47f4>\u001b[0m in \u001b[0;36m<module>\u001b[0;34m()\u001b[0m\n\u001b[1;32m    111\u001b[0m \u001b[0;34m\u001b[0m\u001b[0m\n\u001b[1;32m    112\u001b[0m \u001b[0;34m\u001b[0m\u001b[0m\n\u001b[0;32m--> 113\u001b[0;31m \u001b[0mdf_finviz\u001b[0m\u001b[0;34m,\u001b[0m \u001b[0mdf_stocktwits\u001b[0m\u001b[0;34m,\u001b[0m \u001b[0mdf_rating\u001b[0m\u001b[0;34m,\u001b[0m \u001b[0mdf_hist_data\u001b[0m\u001b[0;34m=\u001b[0m \u001b[0mgetStockDataframe\u001b[0m\u001b[0;34m(\u001b[0m\u001b[0;34m[\u001b[0m\u001b[0;34m'ZM'\u001b[0m\u001b[0;34m,\u001b[0m \u001b[0;34m'SQ'\u001b[0m\u001b[0;34m]\u001b[0m\u001b[0;34m,\u001b[0m \u001b[0;36m3\u001b[0m\u001b[0;34m)\u001b[0m\u001b[0;34m\u001b[0m\u001b[0;34m\u001b[0m\u001b[0m\n\u001b[0m\u001b[1;32m    114\u001b[0m \u001b[0;34m\u001b[0m\u001b[0m\n",
            "\u001b[0;32m<ipython-input-6-9682984b47f4>\u001b[0m in \u001b[0;36mgetStockDataframe\u001b[0;34m(symbols, in_days)\u001b[0m\n\u001b[1;32m     13\u001b[0m             \u001b[0;31m# 1. fetch stock data\u001b[0m\u001b[0;34m\u001b[0m\u001b[0;34m\u001b[0m\u001b[0;34m\u001b[0m\u001b[0m\n\u001b[1;32m     14\u001b[0m             \u001b[0mr1\u001b[0m \u001b[0;34m=\u001b[0m \u001b[0mrequests\u001b[0m\u001b[0;34m.\u001b[0m\u001b[0mget\u001b[0m\u001b[0;34m(\u001b[0m\u001b[0;34m'https://api.stocktwits.com/api/2/streams/symbol/'\u001b[0m \u001b[0;34m+\u001b[0m \u001b[0msymbol\u001b[0m \u001b[0;34m+\u001b[0m \u001b[0;34m'.json?filter=top&limit=20&max='\u001b[0m \u001b[0;34m+\u001b[0m \u001b[0mmaxCursor\u001b[0m\u001b[0;34m)\u001b[0m\u001b[0;34m\u001b[0m\u001b[0;34m\u001b[0m\u001b[0m\n\u001b[0;32m---> 15\u001b[0;31m             \u001b[0mdata\u001b[0m \u001b[0;34m=\u001b[0m \u001b[0mr1\u001b[0m\u001b[0;34m.\u001b[0m\u001b[0mjson\u001b[0m\u001b[0;34m(\u001b[0m\u001b[0;34m)\u001b[0m\u001b[0;34m\u001b[0m\u001b[0;34m\u001b[0m\u001b[0m\n\u001b[0m\u001b[1;32m     16\u001b[0m             \u001b[0;32mif\u001b[0m \u001b[0mr1\u001b[0m\u001b[0;34m.\u001b[0m\u001b[0mstatus_code\u001b[0m \u001b[0;34m!=\u001b[0m \u001b[0;36m200\u001b[0m\u001b[0;34m:\u001b[0m\u001b[0;34m\u001b[0m\u001b[0;34m\u001b[0m\u001b[0m\n\u001b[1;32m     17\u001b[0m                 \u001b[0mprint\u001b[0m\u001b[0;34m(\u001b[0m\u001b[0;34m'make more than 200 requests an hour'\u001b[0m\u001b[0;34m)\u001b[0m\u001b[0;34m\u001b[0m\u001b[0;34m\u001b[0m\u001b[0m\n",
            "\u001b[0;32m/usr/local/lib/python3.7/dist-packages/requests/models.py\u001b[0m in \u001b[0;36mjson\u001b[0;34m(self, **kwargs)\u001b[0m\n\u001b[1;32m    896\u001b[0m                     \u001b[0;31m# used.\u001b[0m\u001b[0;34m\u001b[0m\u001b[0;34m\u001b[0m\u001b[0;34m\u001b[0m\u001b[0m\n\u001b[1;32m    897\u001b[0m                     \u001b[0;32mpass\u001b[0m\u001b[0;34m\u001b[0m\u001b[0;34m\u001b[0m\u001b[0m\n\u001b[0;32m--> 898\u001b[0;31m         \u001b[0;32mreturn\u001b[0m \u001b[0mcomplexjson\u001b[0m\u001b[0;34m.\u001b[0m\u001b[0mloads\u001b[0m\u001b[0;34m(\u001b[0m\u001b[0mself\u001b[0m\u001b[0;34m.\u001b[0m\u001b[0mtext\u001b[0m\u001b[0;34m,\u001b[0m \u001b[0;34m**\u001b[0m\u001b[0mkwargs\u001b[0m\u001b[0;34m)\u001b[0m\u001b[0;34m\u001b[0m\u001b[0;34m\u001b[0m\u001b[0m\n\u001b[0m\u001b[1;32m    899\u001b[0m \u001b[0;34m\u001b[0m\u001b[0m\n\u001b[1;32m    900\u001b[0m     \u001b[0;34m@\u001b[0m\u001b[0mproperty\u001b[0m\u001b[0;34m\u001b[0m\u001b[0;34m\u001b[0m\u001b[0m\n",
            "\u001b[0;32m/usr/lib/python3.7/json/__init__.py\u001b[0m in \u001b[0;36mloads\u001b[0;34m(s, encoding, cls, object_hook, parse_float, parse_int, parse_constant, object_pairs_hook, **kw)\u001b[0m\n\u001b[1;32m    346\u001b[0m             \u001b[0mparse_int\u001b[0m \u001b[0;32mis\u001b[0m \u001b[0;32mNone\u001b[0m \u001b[0;32mand\u001b[0m \u001b[0mparse_float\u001b[0m \u001b[0;32mis\u001b[0m \u001b[0;32mNone\u001b[0m \u001b[0;32mand\u001b[0m\u001b[0;34m\u001b[0m\u001b[0;34m\u001b[0m\u001b[0m\n\u001b[1;32m    347\u001b[0m             parse_constant is None and object_pairs_hook is None and not kw):\n\u001b[0;32m--> 348\u001b[0;31m         \u001b[0;32mreturn\u001b[0m \u001b[0m_default_decoder\u001b[0m\u001b[0;34m.\u001b[0m\u001b[0mdecode\u001b[0m\u001b[0;34m(\u001b[0m\u001b[0ms\u001b[0m\u001b[0;34m)\u001b[0m\u001b[0;34m\u001b[0m\u001b[0;34m\u001b[0m\u001b[0m\n\u001b[0m\u001b[1;32m    349\u001b[0m     \u001b[0;32mif\u001b[0m \u001b[0mcls\u001b[0m \u001b[0;32mis\u001b[0m \u001b[0;32mNone\u001b[0m\u001b[0;34m:\u001b[0m\u001b[0;34m\u001b[0m\u001b[0;34m\u001b[0m\u001b[0m\n\u001b[1;32m    350\u001b[0m         \u001b[0mcls\u001b[0m \u001b[0;34m=\u001b[0m \u001b[0mJSONDecoder\u001b[0m\u001b[0;34m\u001b[0m\u001b[0;34m\u001b[0m\u001b[0m\n",
            "\u001b[0;32m/usr/lib/python3.7/json/decoder.py\u001b[0m in \u001b[0;36mdecode\u001b[0;34m(self, s, _w)\u001b[0m\n\u001b[1;32m    335\u001b[0m \u001b[0;34m\u001b[0m\u001b[0m\n\u001b[1;32m    336\u001b[0m         \"\"\"\n\u001b[0;32m--> 337\u001b[0;31m         \u001b[0mobj\u001b[0m\u001b[0;34m,\u001b[0m \u001b[0mend\u001b[0m \u001b[0;34m=\u001b[0m \u001b[0mself\u001b[0m\u001b[0;34m.\u001b[0m\u001b[0mraw_decode\u001b[0m\u001b[0;34m(\u001b[0m\u001b[0ms\u001b[0m\u001b[0;34m,\u001b[0m \u001b[0midx\u001b[0m\u001b[0;34m=\u001b[0m\u001b[0m_w\u001b[0m\u001b[0;34m(\u001b[0m\u001b[0ms\u001b[0m\u001b[0;34m,\u001b[0m \u001b[0;36m0\u001b[0m\u001b[0;34m)\u001b[0m\u001b[0;34m.\u001b[0m\u001b[0mend\u001b[0m\u001b[0;34m(\u001b[0m\u001b[0;34m)\u001b[0m\u001b[0;34m)\u001b[0m\u001b[0;34m\u001b[0m\u001b[0;34m\u001b[0m\u001b[0m\n\u001b[0m\u001b[1;32m    338\u001b[0m         \u001b[0mend\u001b[0m \u001b[0;34m=\u001b[0m \u001b[0m_w\u001b[0m\u001b[0;34m(\u001b[0m\u001b[0ms\u001b[0m\u001b[0;34m,\u001b[0m \u001b[0mend\u001b[0m\u001b[0;34m)\u001b[0m\u001b[0;34m.\u001b[0m\u001b[0mend\u001b[0m\u001b[0;34m(\u001b[0m\u001b[0;34m)\u001b[0m\u001b[0;34m\u001b[0m\u001b[0;34m\u001b[0m\u001b[0m\n\u001b[1;32m    339\u001b[0m         \u001b[0;32mif\u001b[0m \u001b[0mend\u001b[0m \u001b[0;34m!=\u001b[0m \u001b[0mlen\u001b[0m\u001b[0;34m(\u001b[0m\u001b[0ms\u001b[0m\u001b[0;34m)\u001b[0m\u001b[0;34m:\u001b[0m\u001b[0;34m\u001b[0m\u001b[0;34m\u001b[0m\u001b[0m\n",
            "\u001b[0;32m/usr/lib/python3.7/json/decoder.py\u001b[0m in \u001b[0;36mraw_decode\u001b[0;34m(self, s, idx)\u001b[0m\n\u001b[1;32m    353\u001b[0m             \u001b[0mobj\u001b[0m\u001b[0;34m,\u001b[0m \u001b[0mend\u001b[0m \u001b[0;34m=\u001b[0m \u001b[0mself\u001b[0m\u001b[0;34m.\u001b[0m\u001b[0mscan_once\u001b[0m\u001b[0;34m(\u001b[0m\u001b[0ms\u001b[0m\u001b[0;34m,\u001b[0m \u001b[0midx\u001b[0m\u001b[0;34m)\u001b[0m\u001b[0;34m\u001b[0m\u001b[0;34m\u001b[0m\u001b[0m\n\u001b[1;32m    354\u001b[0m         \u001b[0;32mexcept\u001b[0m \u001b[0mStopIteration\u001b[0m \u001b[0;32mas\u001b[0m \u001b[0merr\u001b[0m\u001b[0;34m:\u001b[0m\u001b[0;34m\u001b[0m\u001b[0;34m\u001b[0m\u001b[0m\n\u001b[0;32m--> 355\u001b[0;31m             \u001b[0;32mraise\u001b[0m \u001b[0mJSONDecodeError\u001b[0m\u001b[0;34m(\u001b[0m\u001b[0;34m\"Expecting value\"\u001b[0m\u001b[0;34m,\u001b[0m \u001b[0ms\u001b[0m\u001b[0;34m,\u001b[0m \u001b[0merr\u001b[0m\u001b[0;34m.\u001b[0m\u001b[0mvalue\u001b[0m\u001b[0;34m)\u001b[0m \u001b[0;32mfrom\u001b[0m \u001b[0;32mNone\u001b[0m\u001b[0;34m\u001b[0m\u001b[0;34m\u001b[0m\u001b[0m\n\u001b[0m\u001b[1;32m    356\u001b[0m         \u001b[0;32mreturn\u001b[0m \u001b[0mobj\u001b[0m\u001b[0;34m,\u001b[0m \u001b[0mend\u001b[0m\u001b[0;34m\u001b[0m\u001b[0;34m\u001b[0m\u001b[0m\n",
            "\u001b[0;31mJSONDecodeError\u001b[0m: Expecting value: line 1 column 1 (char 0)"
          ]
        }
      ]
    },
    {
      "cell_type": "code",
      "metadata": {
        "colab": {
          "base_uri": "https://localhost:8080/"
        },
        "id": "74rmcT4aAMBW",
        "outputId": "4a077aad-0d4a-46e1-a591-631487a8dabb"
      },
      "source": [
        "requests.get('https://api.stocktwits.com/api/2/streams/symbol/SQ.json?filter=top&limit=20')"
      ],
      "execution_count": null,
      "outputs": [
        {
          "output_type": "execute_result",
          "data": {
            "text/plain": [
              "<Response [503]>"
            ]
          },
          "metadata": {
            "tags": []
          },
          "execution_count": 9
        }
      ]
    },
    {
      "cell_type": "code",
      "metadata": {
        "id": "NvaNPMScAWWl"
      },
      "source": [
        ""
      ],
      "execution_count": null,
      "outputs": []
    }
  ]
}